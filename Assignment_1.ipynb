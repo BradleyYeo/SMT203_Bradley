{
 "cells": [
  {
   "cell_type": "code",
   "execution_count": 3,
   "id": "f5d4fe47",
   "metadata": {},
   "outputs": [],
   "source": [
    "import pytrends\n",
    "from pytrends.request import TrendReq\n",
    "pytrends = TrendReq(hl='en-US', tz=-480)"
   ]
  },
  {
   "cell_type": "code",
   "execution_count": null,
   "id": "3ff9363f",
   "metadata": {},
   "outputs": [],
   "source": [
    "kewords = [\"G3B\", \"VOO\"]\n"
   ]
  }
 ],
 "metadata": {
  "kernelspec": {
   "display_name": "Python 3",
   "language": "python",
   "name": "python3"
  },
  "language_info": {
   "codemirror_mode": {
    "name": "ipython",
    "version": 3
   },
   "file_extension": ".py",
   "mimetype": "text/x-python",
   "name": "python",
   "nbconvert_exporter": "python",
   "pygments_lexer": "ipython3",
   "version": "3.8.8"
  }
 },
 "nbformat": 4,
 "nbformat_minor": 5
}
